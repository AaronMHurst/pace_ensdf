{
 "cells": [
  {
   "cell_type": "markdown",
   "metadata": {},
   "source": [
    "# pyENSDF methods for accessing coincidence $\\gamma-\\gamma$ and $\\gamma-X$-ray data sets from radioactive-decay data\n",
    "\n",
    "Import the Python package `pyENSDF` and load the JSON-formatted coincidence-decay data sets to a list object."
   ]
  },
  {
   "cell_type": "code",
   "execution_count": 1,
   "metadata": {},
   "outputs": [
    {
     "name": "stdout",
     "output_type": "stream",
     "text": [
      "The JSON-formatted ENSDF-decay data sets live in directory:\n",
      " /home/amhurst/Programming/ANACONDA/anaconda3/lib/python3.7/site-packages/pyENSDF-0.1.0-py3.7.egg/pyENSDF/ENSDF_JSON\n",
      "The JSON-formatted coincidence decay-data sets live in directory:\n",
      " /home/amhurst/Programming/ANACONDA/anaconda3/lib/python3.7/site-packages/pyENSDF-0.1.0-py3.7.egg/pyENSDF/COINC_JSON\n",
      "Loading coincidence data sets, please wait...\n",
      "2352 JSON-formatted gamma/gamma coincidence-decay data sets loaded.\n",
      "2352 JSON-formatted gamma/X-ray coincidence-decay data sets loaded.\n"
     ]
    }
   ],
   "source": [
    "import pyENSDF as ensdf\n",
    "e = ensdf.ENSDF()\n",
    "cdata = e.load_coinc()"
   ]
  },
  {
   "cell_type": "code",
   "execution_count": 2,
   "metadata": {},
   "outputs": [],
   "source": [
    "import matplotlib.pyplot as plt\n",
    "import numpy as np\n",
    "%matplotlib notebook"
   ]
  },
  {
   "cell_type": "markdown",
   "metadata": {},
   "source": [
    "## Exploring the coincidence data sets\n",
    "\n",
    "To find all available coincidence data sets corresponding to a particular type of decay ($\\alpha$, $\\beta^{-}$, $\\epsilon/\\beta^{+}$) the `pyENSDF` method `coinc_pairs` can be invoked.  This method creates a dictionary containing the associated parent-daughter information for all relevant data sets that contain $\\gamma$- and $X$-ray data.  For more detail on this method and how to use it refer to the docstrings:\n",
    "\n",
    "```python\n",
    ">>> help(e.coinc_pairs)\n",
    "```"
   ]
  },
  {
   "cell_type": "code",
   "execution_count": null,
   "metadata": {
    "scrolled": true
   },
   "outputs": [],
   "source": [
    "# Find all coincidence data sets from beta-minus decay\n",
    "bm_coinc = e.coinc_pairs(cdata, \"BM\")\n",
    "[print(k,v) for (k,v) in bm_coinc.items()][0]"
   ]
  },
  {
   "cell_type": "code",
   "execution_count": null,
   "metadata": {
    "scrolled": true
   },
   "outputs": [],
   "source": [
    "# Find all coincidence data sets from alpha decay\n",
    "a_coinc = e.coinc_pairs(cdata, \"A\")\n",
    "[print(k,v) for (k,v) in a_coinc.items()][0]"
   ]
  },
  {
   "cell_type": "code",
   "execution_count": null,
   "metadata": {
    "scrolled": true
   },
   "outputs": [],
   "source": [
    "# Find all coincidence data sets from electron-capture/beta-plus decay\n",
    "ecbp_coinc = e.coinc_pairs(cdata, \"ECBP\")\n",
    "[print(k,v) for (k,v) in ecbp_coinc.items()][0]"
   ]
  },
  {
   "cell_type": "markdown",
   "metadata": {},
   "source": [
    "## $\\gamma$-ray singles data\n",
    "\n",
    "All $\\gamma$-ray energies and absolute intensities observed following the decay of a defined parent nucleus and given radioactive-decay mode.  The returned quantities and function arguments are explained in the docstrings:\n",
    "\n",
    "```python\n",
    ">>> help(e.get_gamma_singles)\n",
    "```\n",
    "\n",
    "These associated normalization and production normalization records have been applied to the returned $\\gamma$-ray intensities"
   ]
  },
  {
   "cell_type": "code",
   "execution_count": null,
   "metadata": {},
   "outputs": [],
   "source": [
    "help(e.get_gamma_singles)"
   ]
  },
  {
   "cell_type": "code",
   "execution_count": null,
   "metadata": {},
   "outputs": [],
   "source": [
    "# Define parent and decay mode\n",
    "parent_nucleus = \"Ba140\"\n",
    "decay_mode = \"BM\"\n",
    "decay_index = 0\n",
    "\n",
    "decay_pairs = e.coinc_pairs(cdata, decay_mode)\n",
    "daughter_nucleus = [v[0] for k,v in decay_pairs.items() if (k[0]==parent_nucleus and k[3]==decay_index)][0]\n",
    "print(\"Daughter nucleus: {0}\".format(daughter_nucleus))"
   ]
  },
  {
   "cell_type": "code",
   "execution_count": null,
   "metadata": {},
   "outputs": [],
   "source": [
    "# Get the absolute total-projection singles gamma data for 239Pu following the g.s. beta-minus decay of 239Np\n",
    "#g = e.get_gamma_singles(cdata, \"BM\", \"Np239\", 0)\n",
    "g = e.get_gamma_singles(cdata, decay_mode, parent_nucleus, decay_index)\n",
    "for data in g: print(data)\n",
    "\n",
    "# Put gamma data into arrays\n",
    "gamma_array = np.array(g)\n",
    "gamma_energy = gamma_array[:,0]\n",
    "gamma_intensity = gamma_array[:,5]"
   ]
  },
  {
   "cell_type": "code",
   "execution_count": null,
   "metadata": {},
   "outputs": [],
   "source": [
    "# Plot gamma data\n",
    "%matplotlib notebook\n",
    "fig, ax = plt.subplots(figsize=(9,6))\n",
    "\n",
    "ax.bar(gamma_energy, gamma_intensity, width=3, color='k', label=r'%s $\\gamma$ singles'%daughter_nucleus)\n",
    "ax.legend(loc='best', fontsize=15)\n",
    "\n",
    "ax.set_yscale('log')\n",
    "ax.set_xlabel(r'$E_{\\gamma}$ [keV]', size=20)\n",
    "ax.set_ylabel(r'$I_{\\gamma}$', size=20)\n",
    "\n",
    "plt.grid()\n",
    "plt.tight_layout()"
   ]
  },
  {
   "cell_type": "markdown",
   "metadata": {},
   "source": [
    "## $\\gamma-\\gamma$ coincidence data\n",
    "\n",
    "Energies and absolute intensities for $\\gamma-\\gamma$ coincidence pairs.  The callable `get_gg` returns all coincidences within a defined decay scheme or all coincidences with a defined transition according to input arguments.  For more information and an explanation of the function arguments and return value refer to the docstrings:\n",
    "\n",
    "```python\n",
    ">>> help(e.get_gg)\n",
    "```"
   ]
  },
  {
   "cell_type": "markdown",
   "metadata": {},
   "source": [
    "#### (i) All $\\gamma-\\gamma$ coincidences in a defined decay scheme\n",
    "\n",
    "Four arguments are passed to the `get_gg` function."
   ]
  },
  {
   "cell_type": "code",
   "execution_count": null,
   "metadata": {
    "scrolled": true
   },
   "outputs": [],
   "source": [
    "# Get all g-g coincidences in daughter following radioactive decay\n",
    "gg=e.get_gg(cdata, decay_mode, parent_nucleus, decay_index)\n",
    "for coinc in gg: print(coinc)"
   ]
  },
  {
   "cell_type": "markdown",
   "metadata": {},
   "source": [
    "#### (ii) All $\\gamma-\\gamma$ coincidences with a particular transition\n",
    "\n",
    "Six arguments are passed to the `get_gg` function."
   ]
  },
  {
   "cell_type": "code",
   "execution_count": null,
   "metadata": {},
   "outputs": [],
   "source": [
    "# Define indices for gating transition\n",
    "#E_i = 8\n",
    "#E_f = 5\n",
    "E_i = 4\n",
    "E_f = 2"
   ]
  },
  {
   "cell_type": "code",
   "execution_count": null,
   "metadata": {},
   "outputs": [],
   "source": [
    "# Now get all g-g coincidences with the 8->5 transition in 239Pu following the g.s. beta-minus decay of 239Np\n",
    "cg=e.get_gg(cdata, decay_mode, parent_nucleus, decay_index, E_i, E_f)\n",
    "cgate = cg[0][0]\n",
    "for coinc in cg: \n",
    "    print(coinc)\n",
    "    \n",
    "coinc_array = np.array(cg)\n",
    "coinc_gamma = coinc_array[:,1]\n",
    "coinc_intensity = coinc_array[:,10]"
   ]
  },
  {
   "cell_type": "code",
   "execution_count": null,
   "metadata": {},
   "outputs": [],
   "source": [
    "# Plot coincidence gamma data imposed on singles gamma data\n",
    "%matplotlib notebook\n",
    "fig, ax = plt.subplots(figsize=(9,6))\n",
    "\n",
    "ax.bar(gamma_energy, gamma_intensity, width=3, color='k', label=r'%s $\\gamma$ singles'%daughter_nucleus)\n",
    "ax.bar(coinc_gamma, coinc_intensity, width=3, color='r', label=r'%s %s-keV coincidences'%(daughter_nucleus,cgate))\n",
    "ax.legend(loc='best', fontsize=15)\n",
    "\n",
    "ax.set_yscale('log')\n",
    "ax.set_xlabel(r'$E_{\\gamma}$ [keV]', size=20)\n",
    "ax.set_ylabel(r'$I_{\\gamma}$', size=20)\n",
    "\n",
    "plt.grid()\n",
    "#plt.tight_layout()"
   ]
  },
  {
   "cell_type": "markdown",
   "metadata": {},
   "source": [
    "## Search for $\\gamma$ rays and $\\gamma-\\gamma$ coincidences"
   ]
  },
  {
   "cell_type": "markdown",
   "metadata": {},
   "source": [
    "#### (i) Find a single $\\gamma$ ray\n",
    "\n",
    "Provide a single $\\gamma$-ray energy and find all isotopes containing $\\gamma$ rays at the specified energy.  By default a tolerance window of $\\pm$0.5 keV is assumed on the specified $\\gamma$-ray energy.  This can be adjusted with an optional argument.  See the docstrings for more details:\n",
    "\n",
    "```python\n",
    ">>> help(e.find_gamma)\n",
    "```"
   ]
  },
  {
   "cell_type": "code",
   "execution_count": 3,
   "metadata": {
    "scrolled": true
   },
   "outputs": [
    {
     "data": {
      "text/html": [
       "<div>\n",
       "<style scoped>\n",
       "    .dataframe tbody tr th:only-of-type {\n",
       "        vertical-align: middle;\n",
       "    }\n",
       "\n",
       "    .dataframe tbody tr th {\n",
       "        vertical-align: top;\n",
       "    }\n",
       "\n",
       "    .dataframe thead th {\n",
       "        text-align: right;\n",
       "    }\n",
       "</style>\n",
       "<table border=\"1\" class=\"dataframe\">\n",
       "  <thead>\n",
       "    <tr style=\"text-align: right;\">\n",
       "      <th></th>\n",
       "      <th>Parent</th>\n",
       "      <th>Decay Index</th>\n",
       "      <th>Ex. Energy</th>\n",
       "      <th>Daughter</th>\n",
       "      <th>Decay Mode</th>\n",
       "      <th>Gamma</th>\n",
       "    </tr>\n",
       "  </thead>\n",
       "  <tbody>\n",
       "    <tr>\n",
       "      <th>0</th>\n",
       "      <td>Y96</td>\n",
       "      <td>0</td>\n",
       "      <td>0.0</td>\n",
       "      <td>Zr96</td>\n",
       "      <td>betaMinusDecay</td>\n",
       "      <td>1332.4</td>\n",
       "    </tr>\n",
       "    <tr>\n",
       "      <th>1</th>\n",
       "      <td>Nb89</td>\n",
       "      <td>0</td>\n",
       "      <td>0.0</td>\n",
       "      <td>Zr89</td>\n",
       "      <td>electronCaptureBetaPlusDecay</td>\n",
       "      <td>1332.3</td>\n",
       "    </tr>\n",
       "    <tr>\n",
       "      <th>2</th>\n",
       "      <td>Sb116</td>\n",
       "      <td>0</td>\n",
       "      <td>0.0</td>\n",
       "      <td>Sn116</td>\n",
       "      <td>electronCaptureBetaPlusDecay</td>\n",
       "      <td>1331.9</td>\n",
       "    </tr>\n",
       "    <tr>\n",
       "      <th>3</th>\n",
       "      <td>La127</td>\n",
       "      <td>0</td>\n",
       "      <td>0.0</td>\n",
       "      <td>Ba127</td>\n",
       "      <td>electronCaptureBetaPlusDecay</td>\n",
       "      <td>1332.0</td>\n",
       "    </tr>\n",
       "    <tr>\n",
       "      <th>4</th>\n",
       "      <td>Al30</td>\n",
       "      <td>0</td>\n",
       "      <td>0.0</td>\n",
       "      <td>Si30</td>\n",
       "      <td>betaMinusDecay</td>\n",
       "      <td>1332.48</td>\n",
       "    </tr>\n",
       "    <tr>\n",
       "      <th>5</th>\n",
       "      <td>Yb163</td>\n",
       "      <td>0</td>\n",
       "      <td>0.0</td>\n",
       "      <td>Tm163</td>\n",
       "      <td>electronCaptureBetaPlusDecay</td>\n",
       "      <td>1331.84</td>\n",
       "    </tr>\n",
       "    <tr>\n",
       "      <th>6</th>\n",
       "      <td>Mo109</td>\n",
       "      <td>0</td>\n",
       "      <td>0.0</td>\n",
       "      <td>Tc109</td>\n",
       "      <td>betaMinusDecay</td>\n",
       "      <td>1332.2</td>\n",
       "    </tr>\n",
       "    <tr>\n",
       "      <th>7</th>\n",
       "      <td>Bi206</td>\n",
       "      <td>0</td>\n",
       "      <td>0.0</td>\n",
       "      <td>Pb206</td>\n",
       "      <td>electronCaptureBetaPlusDecay</td>\n",
       "      <td>1332.33</td>\n",
       "    </tr>\n",
       "    <tr>\n",
       "      <th>8</th>\n",
       "      <td>Re179</td>\n",
       "      <td>0</td>\n",
       "      <td>0.0</td>\n",
       "      <td>W179</td>\n",
       "      <td>electronCaptureBetaPlusDecay</td>\n",
       "      <td>1331.6</td>\n",
       "    </tr>\n",
       "    <tr>\n",
       "      <th>9</th>\n",
       "      <td>Co60</td>\n",
       "      <td>1</td>\n",
       "      <td>58.59</td>\n",
       "      <td>Ni60</td>\n",
       "      <td>betaMinusDecay</td>\n",
       "      <td>1332.492</td>\n",
       "    </tr>\n",
       "    <tr>\n",
       "      <th>10</th>\n",
       "      <td>Pa238</td>\n",
       "      <td>0</td>\n",
       "      <td>0.0</td>\n",
       "      <td>U238</td>\n",
       "      <td>betaMinusDecay</td>\n",
       "      <td>1332.0</td>\n",
       "    </tr>\n",
       "    <tr>\n",
       "      <th>11</th>\n",
       "      <td>Pm152</td>\n",
       "      <td>0</td>\n",
       "      <td>0.0</td>\n",
       "      <td>Sm152</td>\n",
       "      <td>betaMinusDecay</td>\n",
       "      <td>1332.0</td>\n",
       "    </tr>\n",
       "    <tr>\n",
       "      <th>12</th>\n",
       "      <td>Ga74</td>\n",
       "      <td>0</td>\n",
       "      <td>0.0</td>\n",
       "      <td>Ge74</td>\n",
       "      <td>betaMinusDecay</td>\n",
       "      <td>1332.1</td>\n",
       "    </tr>\n",
       "    <tr>\n",
       "      <th>13</th>\n",
       "      <td>Nd151</td>\n",
       "      <td>0</td>\n",
       "      <td>0.0</td>\n",
       "      <td>Pm151</td>\n",
       "      <td>betaMinusDecay</td>\n",
       "      <td>1332.3</td>\n",
       "    </tr>\n",
       "    <tr>\n",
       "      <th>14</th>\n",
       "      <td>Ta173</td>\n",
       "      <td>0</td>\n",
       "      <td>0.0</td>\n",
       "      <td>Hf173</td>\n",
       "      <td>electronCaptureBetaPlusDecay</td>\n",
       "      <td>1332.4</td>\n",
       "    </tr>\n",
       "    <tr>\n",
       "      <th>15</th>\n",
       "      <td>Kr79</td>\n",
       "      <td>0</td>\n",
       "      <td>0.0</td>\n",
       "      <td>Br79</td>\n",
       "      <td>electronCaptureBetaPlusDecay</td>\n",
       "      <td>1332.21</td>\n",
       "    </tr>\n",
       "    <tr>\n",
       "      <th>16</th>\n",
       "      <td>Ag121</td>\n",
       "      <td>0</td>\n",
       "      <td>0.0</td>\n",
       "      <td>Cd121</td>\n",
       "      <td>betaMinusDecay</td>\n",
       "      <td>1332.14</td>\n",
       "    </tr>\n",
       "    <tr>\n",
       "      <th>17</th>\n",
       "      <td>Sb131</td>\n",
       "      <td>0</td>\n",
       "      <td>0.0</td>\n",
       "      <td>Te131</td>\n",
       "      <td>betaMinusDecay</td>\n",
       "      <td>1331.8</td>\n",
       "    </tr>\n",
       "    <tr>\n",
       "      <th>18</th>\n",
       "      <td>Au187</td>\n",
       "      <td>0</td>\n",
       "      <td>0.0</td>\n",
       "      <td>Pt187</td>\n",
       "      <td>electronCaptureBetaPlusDecay</td>\n",
       "      <td>1331.9</td>\n",
       "    </tr>\n",
       "    <tr>\n",
       "      <th>19</th>\n",
       "      <td>Eu147</td>\n",
       "      <td>0</td>\n",
       "      <td>0.0</td>\n",
       "      <td>Sm147</td>\n",
       "      <td>electronCaptureBetaPlusDecay</td>\n",
       "      <td>1331.997</td>\n",
       "    </tr>\n",
       "    <tr>\n",
       "      <th>20</th>\n",
       "      <td>Rh114</td>\n",
       "      <td>1</td>\n",
       "      <td>200.0</td>\n",
       "      <td>Pd114</td>\n",
       "      <td>betaMinusDecay</td>\n",
       "      <td>1331.6</td>\n",
       "    </tr>\n",
       "    <tr>\n",
       "      <th>21</th>\n",
       "      <td>Cd101</td>\n",
       "      <td>0</td>\n",
       "      <td>0.0</td>\n",
       "      <td>Ag101</td>\n",
       "      <td>electronCaptureBetaPlusDecay</td>\n",
       "      <td>1331.8</td>\n",
       "    </tr>\n",
       "    <tr>\n",
       "      <th>22</th>\n",
       "      <td>Hg207</td>\n",
       "      <td>0</td>\n",
       "      <td>0.0</td>\n",
       "      <td>Tl207</td>\n",
       "      <td>betaMinusDecay</td>\n",
       "      <td>1331.7</td>\n",
       "    </tr>\n",
       "    <tr>\n",
       "      <th>23</th>\n",
       "      <td>As70</td>\n",
       "      <td>0</td>\n",
       "      <td>0.0</td>\n",
       "      <td>Ge70</td>\n",
       "      <td>electronCaptureBetaPlusDecay</td>\n",
       "      <td>1331.58</td>\n",
       "    </tr>\n",
       "    <tr>\n",
       "      <th>24</th>\n",
       "      <td>Au181</td>\n",
       "      <td>0</td>\n",
       "      <td>0.0</td>\n",
       "      <td>Pt181</td>\n",
       "      <td>electronCaptureBetaPlusDecay</td>\n",
       "      <td>1332.2</td>\n",
       "    </tr>\n",
       "    <tr>\n",
       "      <th>25</th>\n",
       "      <td>Tm163</td>\n",
       "      <td>0</td>\n",
       "      <td>0.0</td>\n",
       "      <td>Er163</td>\n",
       "      <td>electronCaptureBetaPlusDecay</td>\n",
       "      <td>1332.13</td>\n",
       "    </tr>\n",
       "    <tr>\n",
       "      <th>26</th>\n",
       "      <td>As71</td>\n",
       "      <td>0</td>\n",
       "      <td>0.0</td>\n",
       "      <td>Ge71</td>\n",
       "      <td>electronCaptureBetaPlusDecay</td>\n",
       "      <td>1331.526</td>\n",
       "    </tr>\n",
       "    <tr>\n",
       "      <th>27</th>\n",
       "      <td>Re188</td>\n",
       "      <td>0</td>\n",
       "      <td>0.0</td>\n",
       "      <td>Os188</td>\n",
       "      <td>betaMinusDecay</td>\n",
       "      <td>1331.94</td>\n",
       "    </tr>\n",
       "    <tr>\n",
       "      <th>28</th>\n",
       "      <td>At207</td>\n",
       "      <td>0</td>\n",
       "      <td>0.0</td>\n",
       "      <td>Po207</td>\n",
       "      <td>electronCaptureBetaPlusDecay</td>\n",
       "      <td>1331.63</td>\n",
       "    </tr>\n",
       "    <tr>\n",
       "      <th>29</th>\n",
       "      <td>Co60</td>\n",
       "      <td>0</td>\n",
       "      <td>0.0</td>\n",
       "      <td>Ni60</td>\n",
       "      <td>betaMinusDecay</td>\n",
       "      <td>1332.492</td>\n",
       "    </tr>\n",
       "    <tr>\n",
       "      <th>30</th>\n",
       "      <td>Tb150</td>\n",
       "      <td>0</td>\n",
       "      <td>0.0</td>\n",
       "      <td>Gd150</td>\n",
       "      <td>electronCaptureBetaPlusDecay</td>\n",
       "      <td>1332.3</td>\n",
       "    </tr>\n",
       "    <tr>\n",
       "      <th>31</th>\n",
       "      <td>Sr96</td>\n",
       "      <td>0</td>\n",
       "      <td>0.0</td>\n",
       "      <td>Y96</td>\n",
       "      <td>betaMinusDecay</td>\n",
       "      <td>1331.6</td>\n",
       "    </tr>\n",
       "    <tr>\n",
       "      <th>32</th>\n",
       "      <td>Ir188</td>\n",
       "      <td>0</td>\n",
       "      <td>0.0</td>\n",
       "      <td>Os188</td>\n",
       "      <td>electronCaptureBetaPlusDecay</td>\n",
       "      <td>1331.94</td>\n",
       "    </tr>\n",
       "  </tbody>\n",
       "</table>\n",
       "</div>"
      ],
      "text/plain": [
       "   Parent  Decay Index Ex. Energy Daughter                    Decay Mode  \\\n",
       "0     Y96            0        0.0     Zr96                betaMinusDecay   \n",
       "1    Nb89            0        0.0     Zr89  electronCaptureBetaPlusDecay   \n",
       "2   Sb116            0        0.0    Sn116  electronCaptureBetaPlusDecay   \n",
       "3   La127            0        0.0    Ba127  electronCaptureBetaPlusDecay   \n",
       "4    Al30            0        0.0     Si30                betaMinusDecay   \n",
       "5   Yb163            0        0.0    Tm163  electronCaptureBetaPlusDecay   \n",
       "6   Mo109            0        0.0    Tc109                betaMinusDecay   \n",
       "7   Bi206            0        0.0    Pb206  electronCaptureBetaPlusDecay   \n",
       "8   Re179            0        0.0     W179  electronCaptureBetaPlusDecay   \n",
       "9    Co60            1      58.59     Ni60                betaMinusDecay   \n",
       "10  Pa238            0        0.0     U238                betaMinusDecay   \n",
       "11  Pm152            0        0.0    Sm152                betaMinusDecay   \n",
       "12   Ga74            0        0.0     Ge74                betaMinusDecay   \n",
       "13  Nd151            0        0.0    Pm151                betaMinusDecay   \n",
       "14  Ta173            0        0.0    Hf173  electronCaptureBetaPlusDecay   \n",
       "15   Kr79            0        0.0     Br79  electronCaptureBetaPlusDecay   \n",
       "16  Ag121            0        0.0    Cd121                betaMinusDecay   \n",
       "17  Sb131            0        0.0    Te131                betaMinusDecay   \n",
       "18  Au187            0        0.0    Pt187  electronCaptureBetaPlusDecay   \n",
       "19  Eu147            0        0.0    Sm147  electronCaptureBetaPlusDecay   \n",
       "20  Rh114            1      200.0    Pd114                betaMinusDecay   \n",
       "21  Cd101            0        0.0    Ag101  electronCaptureBetaPlusDecay   \n",
       "22  Hg207            0        0.0    Tl207                betaMinusDecay   \n",
       "23   As70            0        0.0     Ge70  electronCaptureBetaPlusDecay   \n",
       "24  Au181            0        0.0    Pt181  electronCaptureBetaPlusDecay   \n",
       "25  Tm163            0        0.0    Er163  electronCaptureBetaPlusDecay   \n",
       "26   As71            0        0.0     Ge71  electronCaptureBetaPlusDecay   \n",
       "27  Re188            0        0.0    Os188                betaMinusDecay   \n",
       "28  At207            0        0.0    Po207  electronCaptureBetaPlusDecay   \n",
       "29   Co60            0        0.0     Ni60                betaMinusDecay   \n",
       "30  Tb150            0        0.0    Gd150  electronCaptureBetaPlusDecay   \n",
       "31   Sr96            0        0.0      Y96                betaMinusDecay   \n",
       "32  Ir188            0        0.0    Os188  electronCaptureBetaPlusDecay   \n",
       "\n",
       "       Gamma  \n",
       "0     1332.4  \n",
       "1     1332.3  \n",
       "2     1331.9  \n",
       "3     1332.0  \n",
       "4    1332.48  \n",
       "5    1331.84  \n",
       "6     1332.2  \n",
       "7    1332.33  \n",
       "8     1331.6  \n",
       "9   1332.492  \n",
       "10    1332.0  \n",
       "11    1332.0  \n",
       "12    1332.1  \n",
       "13    1332.3  \n",
       "14    1332.4  \n",
       "15   1332.21  \n",
       "16   1332.14  \n",
       "17    1331.8  \n",
       "18    1331.9  \n",
       "19  1331.997  \n",
       "20    1331.6  \n",
       "21    1331.8  \n",
       "22    1331.7  \n",
       "23   1331.58  \n",
       "24    1332.2  \n",
       "25   1332.13  \n",
       "26  1331.526  \n",
       "27   1331.94  \n",
       "28   1331.63  \n",
       "29  1332.492  \n",
       "30    1332.3  \n",
       "31    1331.6  \n",
       "32   1331.94  "
      ]
     },
     "execution_count": 3,
     "metadata": {},
     "output_type": "execute_result"
    }
   ],
   "source": [
    "# Find all isotopes containing gamma rays at 1332 keV (+/- 0.5 keV; default tolerance range)\n",
    "e.find_gamma(cdata, 1332)"
   ]
  },
  {
   "cell_type": "code",
   "execution_count": 4,
   "metadata": {
    "scrolled": true
   },
   "outputs": [
    {
     "data": {
      "text/html": [
       "<div>\n",
       "<style scoped>\n",
       "    .dataframe tbody tr th:only-of-type {\n",
       "        vertical-align: middle;\n",
       "    }\n",
       "\n",
       "    .dataframe tbody tr th {\n",
       "        vertical-align: top;\n",
       "    }\n",
       "\n",
       "    .dataframe thead th {\n",
       "        text-align: right;\n",
       "    }\n",
       "</style>\n",
       "<table border=\"1\" class=\"dataframe\">\n",
       "  <thead>\n",
       "    <tr style=\"text-align: right;\">\n",
       "      <th></th>\n",
       "      <th>Parent</th>\n",
       "      <th>Decay Index</th>\n",
       "      <th>Ex. Energy</th>\n",
       "      <th>Daughter</th>\n",
       "      <th>Decay Mode</th>\n",
       "      <th>Gamma</th>\n",
       "    </tr>\n",
       "  </thead>\n",
       "  <tbody>\n",
       "    <tr>\n",
       "      <th>0</th>\n",
       "      <td>Sb116</td>\n",
       "      <td>0</td>\n",
       "      <td>0.0</td>\n",
       "      <td>Sn116</td>\n",
       "      <td>electronCaptureBetaPlusDecay</td>\n",
       "      <td>1331.9</td>\n",
       "    </tr>\n",
       "    <tr>\n",
       "      <th>1</th>\n",
       "      <td>La127</td>\n",
       "      <td>0</td>\n",
       "      <td>0.0</td>\n",
       "      <td>Ba127</td>\n",
       "      <td>electronCaptureBetaPlusDecay</td>\n",
       "      <td>1332.0</td>\n",
       "    </tr>\n",
       "    <tr>\n",
       "      <th>2</th>\n",
       "      <td>Yb163</td>\n",
       "      <td>0</td>\n",
       "      <td>0.0</td>\n",
       "      <td>Tm163</td>\n",
       "      <td>electronCaptureBetaPlusDecay</td>\n",
       "      <td>1331.84</td>\n",
       "    </tr>\n",
       "    <tr>\n",
       "      <th>3</th>\n",
       "      <td>Pa238</td>\n",
       "      <td>0</td>\n",
       "      <td>0.0</td>\n",
       "      <td>U238</td>\n",
       "      <td>betaMinusDecay</td>\n",
       "      <td>1332.0</td>\n",
       "    </tr>\n",
       "    <tr>\n",
       "      <th>4</th>\n",
       "      <td>Pm152</td>\n",
       "      <td>0</td>\n",
       "      <td>0.0</td>\n",
       "      <td>Sm152</td>\n",
       "      <td>betaMinusDecay</td>\n",
       "      <td>1332.0</td>\n",
       "    </tr>\n",
       "    <tr>\n",
       "      <th>5</th>\n",
       "      <td>Ga74</td>\n",
       "      <td>0</td>\n",
       "      <td>0.0</td>\n",
       "      <td>Ge74</td>\n",
       "      <td>betaMinusDecay</td>\n",
       "      <td>1332.1</td>\n",
       "    </tr>\n",
       "    <tr>\n",
       "      <th>6</th>\n",
       "      <td>Ag121</td>\n",
       "      <td>0</td>\n",
       "      <td>0.0</td>\n",
       "      <td>Cd121</td>\n",
       "      <td>betaMinusDecay</td>\n",
       "      <td>1332.14</td>\n",
       "    </tr>\n",
       "    <tr>\n",
       "      <th>7</th>\n",
       "      <td>Au187</td>\n",
       "      <td>0</td>\n",
       "      <td>0.0</td>\n",
       "      <td>Pt187</td>\n",
       "      <td>electronCaptureBetaPlusDecay</td>\n",
       "      <td>1331.9</td>\n",
       "    </tr>\n",
       "    <tr>\n",
       "      <th>8</th>\n",
       "      <td>Eu147</td>\n",
       "      <td>0</td>\n",
       "      <td>0.0</td>\n",
       "      <td>Sm147</td>\n",
       "      <td>electronCaptureBetaPlusDecay</td>\n",
       "      <td>1331.997</td>\n",
       "    </tr>\n",
       "    <tr>\n",
       "      <th>9</th>\n",
       "      <td>Tm163</td>\n",
       "      <td>0</td>\n",
       "      <td>0.0</td>\n",
       "      <td>Er163</td>\n",
       "      <td>electronCaptureBetaPlusDecay</td>\n",
       "      <td>1332.13</td>\n",
       "    </tr>\n",
       "    <tr>\n",
       "      <th>10</th>\n",
       "      <td>Re188</td>\n",
       "      <td>0</td>\n",
       "      <td>0.0</td>\n",
       "      <td>Os188</td>\n",
       "      <td>betaMinusDecay</td>\n",
       "      <td>1331.94</td>\n",
       "    </tr>\n",
       "    <tr>\n",
       "      <th>11</th>\n",
       "      <td>Ir188</td>\n",
       "      <td>0</td>\n",
       "      <td>0.0</td>\n",
       "      <td>Os188</td>\n",
       "      <td>electronCaptureBetaPlusDecay</td>\n",
       "      <td>1331.94</td>\n",
       "    </tr>\n",
       "  </tbody>\n",
       "</table>\n",
       "</div>"
      ],
      "text/plain": [
       "   Parent  Decay Index Ex. Energy Daughter                    Decay Mode  \\\n",
       "0   Sb116            0        0.0    Sn116  electronCaptureBetaPlusDecay   \n",
       "1   La127            0        0.0    Ba127  electronCaptureBetaPlusDecay   \n",
       "2   Yb163            0        0.0    Tm163  electronCaptureBetaPlusDecay   \n",
       "3   Pa238            0        0.0     U238                betaMinusDecay   \n",
       "4   Pm152            0        0.0    Sm152                betaMinusDecay   \n",
       "5    Ga74            0        0.0     Ge74                betaMinusDecay   \n",
       "6   Ag121            0        0.0    Cd121                betaMinusDecay   \n",
       "7   Au187            0        0.0    Pt187  electronCaptureBetaPlusDecay   \n",
       "8   Eu147            0        0.0    Sm147  electronCaptureBetaPlusDecay   \n",
       "9   Tm163            0        0.0    Er163  electronCaptureBetaPlusDecay   \n",
       "10  Re188            0        0.0    Os188                betaMinusDecay   \n",
       "11  Ir188            0        0.0    Os188  electronCaptureBetaPlusDecay   \n",
       "\n",
       "       Gamma  \n",
       "0     1331.9  \n",
       "1     1332.0  \n",
       "2    1331.84  \n",
       "3     1332.0  \n",
       "4     1332.0  \n",
       "5     1332.1  \n",
       "6    1332.14  \n",
       "7     1331.9  \n",
       "8   1331.997  \n",
       "9    1332.13  \n",
       "10   1331.94  \n",
       "11   1331.94  "
      ]
     },
     "execution_count": 4,
     "metadata": {},
     "output_type": "execute_result"
    }
   ],
   "source": [
    "# Tune the tolerance to narrow the search range to 1332 +/- 0.2 keV\n",
    "e.find_gamma(cdata, 1332, 0.2)"
   ]
  },
  {
   "cell_type": "markdown",
   "metadata": {},
   "source": [
    "#### (ii) Find a pair of $\\gamma-\\gamma$ coincidences\n",
    "\n",
    "Provide a pair of $\\gamma$-ray energies and find all isotopes containing coincidence $\\gamma$ rays at the specified energies.  By default a tolerance window of $\\pm$0.5 keV is assumed on the specified $\\gamma$-ray energy.  This can be adjusted with an optional argument.  See the docstrings for more details:\n",
    "\n",
    "```python\n",
    ">>> help(e.find_gamma_coinc)\n",
    "```"
   ]
  },
  {
   "cell_type": "code",
   "execution_count": 6,
   "metadata": {},
   "outputs": [
    {
     "data": {
      "text/html": [
       "<div>\n",
       "<style scoped>\n",
       "    .dataframe tbody tr th:only-of-type {\n",
       "        vertical-align: middle;\n",
       "    }\n",
       "\n",
       "    .dataframe tbody tr th {\n",
       "        vertical-align: top;\n",
       "    }\n",
       "\n",
       "    .dataframe thead th {\n",
       "        text-align: right;\n",
       "    }\n",
       "</style>\n",
       "<table border=\"1\" class=\"dataframe\">\n",
       "  <thead>\n",
       "    <tr style=\"text-align: right;\">\n",
       "      <th></th>\n",
       "      <th>Parent</th>\n",
       "      <th>Decay Index</th>\n",
       "      <th>Ex. Energy</th>\n",
       "      <th>Daughter</th>\n",
       "      <th>Decay Mode</th>\n",
       "      <th>Gamma 1</th>\n",
       "      <th>Gamma 2</th>\n",
       "    </tr>\n",
       "  </thead>\n",
       "  <tbody>\n",
       "    <tr>\n",
       "      <th>0</th>\n",
       "      <td>Y96</td>\n",
       "      <td>0</td>\n",
       "      <td>0.0</td>\n",
       "      <td>Zr96</td>\n",
       "      <td>betaMinusDecay</td>\n",
       "      <td>1175.0</td>\n",
       "      <td>1332.4</td>\n",
       "    </tr>\n",
       "    <tr>\n",
       "      <th>1</th>\n",
       "      <td>Cu60</td>\n",
       "      <td>0</td>\n",
       "      <td>0.0</td>\n",
       "      <td>Ni60</td>\n",
       "      <td>electronCaptureBetaPlusDecay</td>\n",
       "      <td>1173.2</td>\n",
       "      <td>1332.5</td>\n",
       "    </tr>\n",
       "    <tr>\n",
       "      <th>2</th>\n",
       "      <td>Ir186</td>\n",
       "      <td>0</td>\n",
       "      <td>0.0</td>\n",
       "      <td>Os186</td>\n",
       "      <td>electronCaptureBetaPlusDecay</td>\n",
       "      <td>1171.5</td>\n",
       "      <td>1334.0</td>\n",
       "    </tr>\n",
       "    <tr>\n",
       "      <th>3</th>\n",
       "      <td>At207</td>\n",
       "      <td>0</td>\n",
       "      <td>0.0</td>\n",
       "      <td>Po207</td>\n",
       "      <td>electronCaptureBetaPlusDecay</td>\n",
       "      <td>1171.62</td>\n",
       "      <td>1334.0</td>\n",
       "    </tr>\n",
       "    <tr>\n",
       "      <th>4</th>\n",
       "      <td>Co60</td>\n",
       "      <td>0</td>\n",
       "      <td>0.0</td>\n",
       "      <td>Ni60</td>\n",
       "      <td>betaMinusDecay</td>\n",
       "      <td>1173.228</td>\n",
       "      <td>1332.492</td>\n",
       "    </tr>\n",
       "  </tbody>\n",
       "</table>\n",
       "</div>"
      ],
      "text/plain": [
       "  Parent  Decay Index Ex. Energy Daughter                    Decay Mode  \\\n",
       "0    Y96            0        0.0     Zr96                betaMinusDecay   \n",
       "1   Cu60            0        0.0     Ni60  electronCaptureBetaPlusDecay   \n",
       "2  Ir186            0        0.0    Os186  electronCaptureBetaPlusDecay   \n",
       "3  At207            0        0.0    Po207  electronCaptureBetaPlusDecay   \n",
       "4   Co60            0        0.0     Ni60                betaMinusDecay   \n",
       "\n",
       "    Gamma 1   Gamma 2  \n",
       "0    1175.0    1332.4  \n",
       "1    1173.2    1332.5  \n",
       "2    1171.5    1334.0  \n",
       "3   1171.62    1334.0  \n",
       "4  1173.228  1332.492  "
      ]
     },
     "execution_count": 6,
     "metadata": {},
     "output_type": "execute_result"
    }
   ],
   "source": [
    "# Find all isotopes containing a coincidence pair of gamma rays \n",
    "# at 106 keV and 392 keV (default tolerance=0.5 keV)\n",
    "#e.find_gamma_coinc(cdata, 106, 392)\n",
    "e.find_gamma_coinc(cdata, 1173, 1332, 2.3)"
   ]
  },
  {
   "cell_type": "code",
   "execution_count": null,
   "metadata": {},
   "outputs": [],
   "source": [
    "# Tune the tolerance to expand the search window to +/- 1.0 keV\n",
    "e.find_gamma_coinc(cdata, 106, 392, 1.0)"
   ]
  },
  {
   "cell_type": "markdown",
   "metadata": {},
   "source": [
    "## $X$-ray singles data\n",
    "\n",
    "$K$-shell $X$-ray energies and absolute intensities observed following the decay of a defined parent nucleus and given radioactive-decay mode.  The returned quantities and function arguments are explained in the docstrings:\n",
    "\n",
    "```python\n",
    ">>> help(e.get_xray_singles)\n",
    "```"
   ]
  },
  {
   "cell_type": "code",
   "execution_count": null,
   "metadata": {},
   "outputs": [],
   "source": [
    "# Get the absolute total-projection singles X-ray data for 239Pu following the g.s. beta-minus decay of 239Np\n",
    "#x=e.get_xray_singles(cdata, \"BM\", \"Np239\", 0)\n",
    "x=e.get_xray_singles(cdata, decay_mode, parent_nucleus, decay_index)\n",
    "for xray in x: print(xray)\n",
    "\n",
    "xray_array = np.array(x)\n",
    "xray_energy = xray_array[:,0]\n",
    "xray_intensity = xray_array[:,1]"
   ]
  },
  {
   "cell_type": "markdown",
   "metadata": {},
   "source": [
    "To get the contribution of individual transitions, from the associated $K$-shell conversion, to the observed $K$-shell $X$-ray yield use the `get_xray_contribution` callable.  For more information see the docstrings:\n",
    "\n",
    "```python\n",
    ">>> help(e.get_xray_contribution)\n",
    "```"
   ]
  },
  {
   "cell_type": "code",
   "execution_count": null,
   "metadata": {},
   "outputs": [],
   "source": [
    "# Plot gamma and X-ray data\n",
    "%matplotlib notebook\n",
    "fig, ax = plt.subplots(figsize=(9,6))\n",
    "\n",
    "ax.bar(gamma_energy, gamma_intensity, width=3, color='k', label=r'%s decay $\\gamma$ singles'%daughter_nucleus)\n",
    "ax.bar(xray_energy, xray_intensity, width=3, color='b', label=r'%s $X$-rays'%daughter_nucleus)\n",
    "ax.legend(loc='best', fontsize=15)\n",
    "\n",
    "ax.set_yscale('log')\n",
    "ax.set_xlabel(r'$E$ [keV]', size=20)\n",
    "ax.set_ylabel(r'$I$', size=20)\n",
    "\n",
    "plt.grid()\n",
    "plt.tight_layout()"
   ]
  },
  {
   "cell_type": "code",
   "execution_count": null,
   "metadata": {
    "scrolled": true
   },
   "outputs": [],
   "source": [
    "# Get the individual contributions to the X-ray yield from transitions in 239Pu following the g.s. beta-minus\n",
    "# decay of 239Np\n",
    "e.get_xray_contribution(cdata, decay_mode, parent_nucleus, decay_index)"
   ]
  },
  {
   "cell_type": "markdown",
   "metadata": {},
   "source": [
    "## $\\gamma-X$-ray coincidence data\n",
    "\n",
    "Energies and absolute intensities for $\\gamma-X$-ray coincidence pairs.  The callable `get_gx` returns all coincidences within a defined decay scheme or all coincidences with a defined transition according to input arguments.  For more information and an explanation of the function arguments and return value refer to the docstrings:\n",
    "\n",
    "```python\n",
    ">>> help(e.get_gx)\n",
    "```"
   ]
  },
  {
   "cell_type": "markdown",
   "metadata": {},
   "source": [
    "#### (i) All $\\gamma-X$-ray coincidences in a defined decay scheme\n",
    "\n",
    "Four arguments are passed to the `get_gx` function."
   ]
  },
  {
   "cell_type": "code",
   "execution_count": null,
   "metadata": {
    "scrolled": true
   },
   "outputs": [],
   "source": [
    "# Get all g-X coincidences in 239Pu following the ground-state beta-minus decay of 239Np\n",
    "xx=e.get_gx(cdata, decay_mode, parent_nucleus, decay_index)\n",
    "for coinc in xx: print(coinc)"
   ]
  },
  {
   "cell_type": "markdown",
   "metadata": {},
   "source": [
    "#### (ii) All $\\gamma-X$-ray coincidences with a particular transition\n",
    "\n",
    "Six arguments are passed to the `get_gx` function."
   ]
  },
  {
   "cell_type": "code",
   "execution_count": null,
   "metadata": {},
   "outputs": [],
   "source": [
    "# Now get all g-X coincidences with the 8->5 transition in 239Pu following the g.s. beta-minus decay of 239Np\n",
    "cx=e.get_gx(cdata, decay_mode, parent_nucleus, decay_index, E_i, E_f)\n",
    "for coinc in cx: print(coinc)\n",
    "    \n",
    "coincgx_array = np.array(cx)\n",
    "coincgx_energy = coincgx_array[:,3].astype(float)\n",
    "coincgx_intensity = coincgx_array[:,5].astype(float)"
   ]
  },
  {
   "cell_type": "code",
   "execution_count": null,
   "metadata": {},
   "outputs": [],
   "source": [
    "# Plot coincidence gamma and X-ray imposed upon singles gamma and X-ray data\n",
    "%matplotlib notebook\n",
    "fig, ax = plt.subplots(figsize=(9,6))\n",
    "\n",
    "ax.bar(gamma_energy, gamma_intensity, width=3, color='k', label=r'%s decay $\\gamma$'%daughter_nucleus)\n",
    "ax.bar(xray_energy, xray_intensity, width=3, color='b', label=r'%s $X$-rays'%daughter_nucleus)\n",
    "ax.bar(coinc_gamma, coinc_intensity, width=3, color='r', label=r'%s $\\gamma$/%s-keV coincidences'%(daughter_nucleus, cgate))\n",
    "ax.bar(coincgx_energy, coincgx_intensity, width=3, color='yellow', label=r'%s $X$/%s-keV coincidences'%(daughter_nucleus, cgate))\n",
    "ax.legend(loc='best', fontsize=15)\n",
    "\n",
    "ax.set_yscale('log')\n",
    "ax.set_xlabel(r'$E$ [keV]', size=20)\n",
    "ax.set_ylabel(r'$I$', size=20)\n",
    "\n",
    "plt.grid()\n",
    "plt.tight_layout()"
   ]
  },
  {
   "cell_type": "markdown",
   "metadata": {},
   "source": [
    "## Search for $X$ rays and $\\gamma-X$-ray coincidences"
   ]
  },
  {
   "cell_type": "markdown",
   "metadata": {},
   "source": [
    "#### (i) Find a single $X$ ray\n",
    "\n",
    "Provide a single $X$-ray energy and find all isotopes containing $X$ rays at the specified energy.  By default a tolerance window of $\\pm$0.5 keV is assumed on the specified $X$-ray energy.  This can be adjusted with an optional argument.  See the docstrings for more details:\n",
    "\n",
    "```python\n",
    ">>> help(e.find_xray)\n",
    "```"
   ]
  },
  {
   "cell_type": "code",
   "execution_count": null,
   "metadata": {
    "scrolled": true
   },
   "outputs": [],
   "source": [
    "# Find all isotopes containing X rays at 52 keV (+/- 0.5 keV; default tolerance range)\n",
    "e.find_xray(cdata, 52)"
   ]
  },
  {
   "cell_type": "code",
   "execution_count": null,
   "metadata": {
    "scrolled": false
   },
   "outputs": [],
   "source": [
    "# Tune the tolerance to narrow the search range to 52 +/- 0.1 keV\n",
    "e.find_xray(cdata, 52, 0.1)"
   ]
  },
  {
   "cell_type": "markdown",
   "metadata": {},
   "source": [
    "#### (ii) Find a pair of $\\gamma-X$-ray coincidences\n",
    "\n",
    "Provide the $X$-ray energy and the $\\gamma$-ray energy and find all isotopes containing coincidence $\\gamma-X$-ray pairs at the specified energies.  By default a tolerance window of $\\pm$0.5 keV is assumed on the specified photon energy.  This can be adjusted with an optional argument.  See the docstrings for more details:\n",
    "\n",
    "```python\n",
    ">>> help(e.find_xray_coinc)\n",
    "```"
   ]
  },
  {
   "cell_type": "code",
   "execution_count": null,
   "metadata": {},
   "outputs": [],
   "source": [
    "# Find all isotopes containing a gamma-X-ray coincidence pair with a 52-keV X ray and 688-keV gamma, \n",
    "# respectively, assuming the default tolerance=0.5 keV\n",
    "e.find_xray_coinc(cdata, 52, 688)"
   ]
  },
  {
   "cell_type": "code",
   "execution_count": null,
   "metadata": {
    "scrolled": false
   },
   "outputs": [],
   "source": [
    "# Tune the tolerance to narrow the search window to +/- 0.15 keV\n",
    "e.find_xray_coinc(cdata, 52, 688, 1.8)"
   ]
  },
  {
   "cell_type": "markdown",
   "metadata": {},
   "source": [
    "# Auxiliary data\n",
    "\n",
    "This section of the Notebook runs through some of the supplementary data in coincidence data structures that may be interesting or useful."
   ]
  },
  {
   "cell_type": "markdown",
   "metadata": {},
   "source": [
    "## Valence electronic configurations\n",
    "\n",
    "The valence electronic configuration is provided for all elements from $Z=3-110$ apart from $Z=1,2,101,103,106$.  The missing data will be added in a future release.  Refer to the docstrings for information regarding the returned list object:\n",
    "\n",
    "```python\n",
    ">>> help(e.get_valence_config)\n",
    "```"
   ]
  },
  {
   "cell_type": "code",
   "execution_count": null,
   "metadata": {},
   "outputs": [],
   "source": [
    "# Get the valence electronic configuration of Yb (pass the chemical symbol <str>)\n",
    "e.get_valence_config(cdata, \"Yb\")"
   ]
  },
  {
   "cell_type": "code",
   "execution_count": null,
   "metadata": {},
   "outputs": [],
   "source": [
    "# Get the valence electronic configuration of Yb (pass the atomic number <int>)\n",
    "e.get_valence_config(cdata, 70)"
   ]
  },
  {
   "cell_type": "code",
   "execution_count": null,
   "metadata": {},
   "outputs": [],
   "source": [
    "# Get the valence electronic configuration of Fe (pass the chemical symbol <str>)\n",
    "e.get_valence_config(cdata, \"Fe\")"
   ]
  },
  {
   "cell_type": "code",
   "execution_count": null,
   "metadata": {},
   "outputs": [],
   "source": [
    "# Get the valence electronic configuration of Fe (pass the atomic number <int>)\n",
    "e.get_valence_config(cdata, 26)"
   ]
  },
  {
   "cell_type": "markdown",
   "metadata": {},
   "source": [
    "## Atomic binding energies\n",
    "\n",
    "Atomic subshell binding energies in keV for $K$, $L_{I} - L_{III}$, and $M_{I} - M_{V}$.  Refer to the docstrings for more information:\n",
    "\n",
    "```python\n",
    ">>> help(e.get_binding_energies)\n",
    "```\n",
    "\n",
    "The desired element can be passed as a string (chemical symbol) or an integer (atomic number).  A keyword argument is also needed to specify the required output:\n",
    "\n",
    "```Bash\n",
    "shell = 'K'\n",
    "shell = 'L'\n",
    "shell = 'M'\n",
    "shell = 'all'\n",
    "```"
   ]
  },
  {
   "cell_type": "code",
   "execution_count": null,
   "metadata": {},
   "outputs": [],
   "source": [
    "# Get the K-shell binding energy for W:\n",
    "e.get_binding_energies(cdata, \"W\", shell='K')"
   ]
  },
  {
   "cell_type": "code",
   "execution_count": null,
   "metadata": {},
   "outputs": [],
   "source": [
    "# Get the L-shell binding energies for W:\n",
    "e.get_binding_energies(cdata, \"W\", shell='L')"
   ]
  },
  {
   "cell_type": "code",
   "execution_count": null,
   "metadata": {},
   "outputs": [],
   "source": [
    "# Get the M-shell binding energies for W:\n",
    "e.get_binding_energies(cdata, \"W\", shell='M')"
   ]
  },
  {
   "cell_type": "code",
   "execution_count": null,
   "metadata": {},
   "outputs": [],
   "source": [
    "# Get all available atomic-shell binding energies for Yb:\n",
    "e.get_binding_energies(cdata, 74, shell='ALL')"
   ]
  },
  {
   "cell_type": "code",
   "execution_count": null,
   "metadata": {},
   "outputs": [],
   "source": []
  },
  {
   "cell_type": "code",
   "execution_count": null,
   "metadata": {},
   "outputs": [],
   "source": [
    "%matplotlib notebook\n",
    "fig, (ax1, ax2) = plt.subplots(1, 2, figsize=(10,5))\n",
    "\n",
    "ax1.bar(gamma_energy, gamma_intensity, width=3, color='k')\n",
    "#ax1.legend(loc='best', fontsize=15)\n",
    "ax1.set_yscale('log')\n",
    "ax2.bar(coinc_gamma, coinc_intensity, width=3, color='r')\n",
    "#ax2.legend(loc='best', fontsize=15)\n",
    "ax2.set_xscale('log')"
   ]
  },
  {
   "cell_type": "code",
   "execution_count": null,
   "metadata": {},
   "outputs": [],
   "source": []
  }
 ],
 "metadata": {
  "kernelspec": {
   "display_name": "Python 3",
   "language": "python",
   "name": "python3"
  },
  "language_info": {
   "codemirror_mode": {
    "name": "ipython",
    "version": 3
   },
   "file_extension": ".py",
   "mimetype": "text/x-python",
   "name": "python",
   "nbconvert_exporter": "python",
   "pygments_lexer": "ipython3",
   "version": "3.7.3"
  }
 },
 "nbformat": 4,
 "nbformat_minor": 2
}
